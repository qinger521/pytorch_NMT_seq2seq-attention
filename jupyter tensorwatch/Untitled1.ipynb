{
 "cells": [
  {
   "cell_type": "code",
   "execution_count": 60,
   "metadata": {},
   "outputs": [
    {
     "name": "stdout",
     "output_type": "stream",
     "text": [
      "x_mask:\n",
      "tensor([[ True,  True,  True,  True,  True],\n",
      "        [ True,  True,  True,  True, False],\n",
      "        [ True,  True,  True, False, False]])\n",
      "y_mask:\n",
      "tensor([[True, True, True],\n",
      "        [True, True, True],\n",
      "        [True, True, True]])\n",
      "~x_mask[:, :, None]\n",
      "tensor([[[False],\n",
      "         [False],\n",
      "         [False],\n",
      "         [False],\n",
      "         [False]],\n",
      "\n",
      "        [[False],\n",
      "         [False],\n",
      "         [False],\n",
      "         [False],\n",
      "         [ True]],\n",
      "\n",
      "        [[False],\n",
      "         [False],\n",
      "         [False],\n",
      "         [ True],\n",
      "         [ True]]])\n",
      "y_mask[:, None, :]\n",
      "tensor([[[True, True, True]],\n",
      "\n",
      "        [[True, True, True]],\n",
      "\n",
      "        [[True, True, True]]])\n"
     ]
    },
    {
     "data": {
      "text/plain": [
       "tensor([[[False, False, False],\n",
       "         [False, False, False],\n",
       "         [False, False, False],\n",
       "         [False, False, False],\n",
       "         [False, False, False]],\n",
       "\n",
       "        [[False, False, False],\n",
       "         [False, False, False],\n",
       "         [False, False, False],\n",
       "         [False, False, False],\n",
       "         [ True,  True,  True]],\n",
       "\n",
       "        [[False, False, False],\n",
       "         [False, False, False],\n",
       "         [False, False, False],\n",
       "         [ True,  True,  True],\n",
       "         [ True,  True,  True]]])"
      ]
     },
     "execution_count": 60,
     "metadata": {},
     "output_type": "execute_result"
    }
   ],
   "source": [
    "import torch\n",
    "import numpy as np\n",
    "def create_mask(x_len, y_len):\n",
    "        # a mask of shape x_len * y_len\n",
    "        device = x_len.device\n",
    "        max_x_len = x_len.max()\n",
    "        max_y_len = y_len.max()\n",
    "\n",
    "        x_max = torch.arange(max_x_len, device=x_len.device)[None, :]\n",
    "\n",
    "        x_mask = torch.arange(max_x_len, device=x_len.device)[None, :] < x_len[:, None]\n",
    "        print(\"x_mask:\")\n",
    "        print(x_mask)\n",
    "        y_mask = torch.arange(max_y_len, device=x_len.device)[None, :] < y_len[:, None]\n",
    "        print(\"y_mask:\")\n",
    "        print(y_mask)\n",
    "        x_mask.bool()\n",
    "        y_mask.bool()\n",
    "        # print(x_mask)\n",
    "        print(\"~x_mask[:, :, None]\")\n",
    "        print(~x_mask[:, :, None])\n",
    "        print(\"y_mask[:, None, :]\")\n",
    "        print(y_mask[:, None, :])\n",
    "        mask = (~x_mask[:, :, None] * y_mask[:, None, :]).byte()\n",
    "\n",
    "        return mask.bool()\n",
    "x_len = np.array([5,4,3])\n",
    "y_len = np.array([3,3,3])\n",
    "x = torch.from_numpy(x_len)\n",
    "y = torch.from_numpy(y_len)\n",
    "create_mask(x_len=x,y_len=y)"
   ]
  }
 ],
 "metadata": {
  "kernelspec": {
   "display_name": "Python 3",
   "language": "python",
   "name": "python3"
  },
  "language_info": {
   "codemirror_mode": {
    "name": "ipython",
    "version": 3
   },
   "file_extension": ".py",
   "mimetype": "text/x-python",
   "name": "python",
   "nbconvert_exporter": "python",
   "pygments_lexer": "ipython3",
   "version": "3.7.5"
  }
 },
 "nbformat": 4,
 "nbformat_minor": 2
}
